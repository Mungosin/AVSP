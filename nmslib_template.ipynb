{
 "cells": [
  {
   "cell_type": "markdown",
   "metadata": {
    "deletable": true,
    "editable": true
   },
   "source": [
    "Skripta koja će skinuti **nmslib** u trenutni direktorij, build-at ga i postaviti python bindings za daljnji rad. \n",
    "\n",
    "Skripta ne brise skinuti repozitorij.\n"
   ]
  },
  {
   "cell_type": "markdown",
   "metadata": {
    "deletable": true,
    "editable": true
   },
   "source": [
    "---\n",
    "#!/bin/bash \n",
    "\n",
    "git clone https://github.com/searchivarius/nmslib.git\n",
    "\n",
    "apt-get install libboost-all-dev libgsl0-dev libeigen3-dev\n",
    "\n",
    "cd nmslib/similarity_search && cmake . -DWITH_EXTRAS=1 && make && cd ..\n",
    "\n",
    "cd python_bindings && python setup.py build && sudo python setup.py install && cd ../.. \n",
    "\n",
    "---\n"
   ]
  },
  {
   "cell_type": "markdown",
   "metadata": {
    "deletable": true,
    "editable": true
   },
   "source": [
    "Prebacite gornje naredbe u `nmslib-install.sh` file i onda samo pokrenite:\n",
    "\n",
    "`sudo bash nmslib-install.sh `\n",
    "\n",
    "i sve bi se trebalo postaviti, zajedno sa python bindings-ima. "
   ]
  },
  {
   "cell_type": "markdown",
   "metadata": {
    "deletable": true,
    "editable": true
   },
   "source": [
    "# NMSLIB summary"
   ]
  },
  {
   "cell_type": "code",
   "execution_count": 1,
   "metadata": {
    "collapsed": false,
    "deletable": true,
    "editable": true
   },
   "outputs": [],
   "source": [
    "import sys\n",
    "import os\n",
    "import time\n",
    "\n",
    "import numpy as np\n",
    "from scipy.sparse import csr_matrix\n",
    "from scipy.spatial import distance\n",
    "import nmslib\n",
    "import pandas as pd\n",
    "\n",
    "from common import *"
   ]
  },
  {
   "cell_type": "code",
   "execution_count": 2,
   "metadata": {
    "collapsed": true,
    "deletable": true,
    "editable": true
   },
   "outputs": [],
   "source": [
    "np.random.seed(17)"
   ]
  },
  {
   "cell_type": "markdown",
   "metadata": {
    "deletable": true,
    "editable": true
   },
   "source": [
    "**NMSLIB** je library za indexiranje i brzo pretraživanje vektorskih podataka. Sadrži i benchamrk alate na koje ćemo se osvrnuti po potrebi. \n",
    "\n",
    "### Konstante/enumeracije paketa:\n",
    "\n",
    "* Tipovi vektora : `nmslib.DataType`\n",
    "    * `nmslib.DataType.DENSE_VECTOR`  ~ ovaj će biti najkorisniji\n",
    "    \n",
    "    * `nmslib.DataType.SPARSE_VECTOR` ~ nmslib treba index vrijednosti i vrijenost; nije prikladan za naš zadatak\n",
    "    \n",
    "    * `nmslib.DataType.OBJECT_AS_STRING` ~ radi nad stringovima; opet, DENSE_VECTOR is the way to go\n",
    "  \n",
    "___\n",
    "  \n",
    "* Povratne vrijednosti udaljenosti: `nmslib.DistType`\n",
    "    * `nmslib.DistType.FLOAT` ~ default za naš zadatak\n",
    "    \n",
    "    * `nmslib.DistType.INT`\n",
    "  "
   ]
  },
  {
   "cell_type": "markdown",
   "metadata": {
    "deletable": true,
    "editable": true
   },
   "source": [
    "### Metode dostupne kroz python:\n",
    "\n",
    "*** Note: *** `index` varijabla označava pointer na c++ objekt i kao takav se vidi u python kodu. `vector` varijable su python liste ili numpy objekti. \n",
    "\n",
    " ___\n",
    " \n",
    "* Stvaranje nove konfiguracije indeksa:\n",
    "    * `nmslib.init(space_type:str, space_param:list(), method_name:str, dataType:int, distType:int)`\n",
    " \n",
    " ___\n",
    " \n",
    " \n",
    "* Učitavanje postojećeg indeksa iz datoteke. Index koji se predaje mora biti izgrađen pomoću `nmslib.init` metode na isti način na koji je index bio pohranjen.\n",
    "    * `nmslib.loadIndex(index:int, index_name:str)`\n",
    "    * ***NOTE*** Index koji se predaje loader-u mora biti stvoren sa istim parametrima i tom se indeksu moraju dodati svi elementi koji su bili dodatni pri stvaranju spremljenog indeksa da bi ova metoda radila. \n",
    "___\n",
    "\n",
    "\n",
    "* Dodavanje novog vektora indeksu\n",
    "    * `nmslib.addDataPoint(index:int, id:int, data:list() )`\n",
    "    * ***NOTE*** Ovdje je data nužno python list! Numpy objekti bacaju error.\n",
    "___\n",
    "\n",
    "\n",
    "* Dodavanje batch-a vektora indeksu\n",
    "    * `nmslib.addDataPointBatch(index:int, id_list:numpy(int), data_list: numpy(vector) )`\n",
    "\n",
    "___\n",
    "\n",
    "\n",
    "* Izgradnja objekta nad kojim se mogu raditi upiti\n",
    "    * `nmslib.createIndex(index:int, index_param=list(str))`\n",
    "\n",
    "___\n",
    "\n",
    "\n",
    "* Broj vektora nad kojim će biti izgrađen indeks \n",
    "    * `nmslib.getDataPointQty(index:int)`\n",
    "    \n",
    "___\n",
    "\n",
    "\n",
    "* Dohvaćanje već pohranjenog vektora po indeksu \n",
    "    * `nmslib.getDataPoint(index:int,id:int)`\n",
    "\n",
    "___\n",
    "\n",
    "\n",
    "* Za već pohranjene vektore, ispitaj udaljenost pojedinih indeksa \n",
    "    * `nmslib.getDistance(index:int, id1:int, id2:int)`\n",
    "___\n",
    "\n",
    "* Postavljanje konfiguracijskih parametara za izvođenej upita.\n",
    "    * `nmslib.setQueryTimeParams(index:int,query_time_param:list(str))`\n",
    "    \n",
    "___\n",
    "\n",
    "* Slanje testnog indeksa na pretragu i vraćanje k najsličnijih vektora (zahtjeva `createIndex` )\n",
    "    * `nmslib.knnQuery(index:int,k:int,data:list(float))`\n",
    "\n",
    "___\n",
    "\n",
    "* Slanje upita za k najsličnijih vektora za svaki element batch-a(zahtjeva `createIndex` )\n",
    "    * `nmslib.knnQueryBatch(index:int,num_threads:int,k:int,query:numpy(vector))`\n",
    "\n",
    "___\n",
    "\n",
    "* Oslobađanje memorije izgrađenog indeksa \n",
    "    * `nmslib.freeIndex(index:int)`"
   ]
  },
  {
   "cell_type": "code",
   "execution_count": null,
   "metadata": {
    "collapsed": true,
    "deletable": true,
    "editable": true
   },
   "outputs": [],
   "source": []
  },
  {
   "cell_type": "markdown",
   "metadata": {
    "deletable": true,
    "editable": true
   },
   "source": [
    "Lista svih `space_type` vrijednosti.\n",
    "Parametri pojedinih metoda definiraju se u `space_param` listi su obliku `'key=val'`.\n",
    "\n",
    "* **Metric**\n",
    "    * ~~Hamming\n",
    "        * bit hamming~~\n",
    "    * L1\n",
    "        - l1\n",
    "    * L2\n",
    "        - l2\n",
    "    * Linf\n",
    "        - linf\n",
    "    * Lp (p>=1)\n",
    "        - lp:p=...        \n",
    "    * Angular distance\n",
    "        - angulardist\n",
    "    * Jensen-Shan. metr.\n",
    "        - jsmetrslow\n",
    "        - jsmetrfast\n",
    "        - jsmetrfastapprox\n",
    "    * Levenshtein: ***NOTE*** used for strigns\n",
    "        - ~~leven~~\n",
    "    * SQFD: ***NOTE*** used for images \n",
    "        - ~~sqfd_minus_func~~\n",
    "        - ~~sqfd_heuristic_func:alpha=...,~~\n",
    "        - ~~sqfd_gaussian_func:alpha=...~~"
   ]
  },
  {
   "cell_type": "code",
   "execution_count": 3,
   "metadata": {
    "collapsed": false,
    "deletable": true,
    "editable": true
   },
   "outputs": [],
   "source": [
    "# List of metric space type\n",
    "lp_space_p=3\n",
    "metric_space_type_opts=['l1',\n",
    "                        'l2',\n",
    "                        'linf',\n",
    "                        'lp',\n",
    "                        'angulardist',\n",
    "                        'jsmetrslow',\n",
    "                        'jsmetrfast',\n",
    "                        'jsmetrfastapprox']\n"
   ]
  },
  {
   "cell_type": "markdown",
   "metadata": {
    "deletable": true,
    "editable": true
   },
   "source": [
    "* ***NonMetric spaces(symmetric distances)***\n",
    "\n",
    "    * Lp (generic p < 1)\n",
    "        - lp:p=...         \n",
    "    * Jensen-Shan. div.\n",
    "        - jsdivslow\n",
    "        - jsdivfast\n",
    "        - jsdivfastapprox\n",
    "    * Cosine distance\n",
    "        - cosinesimil\n",
    "        - ~~cosinesimil_sparse~~\n",
    "        - ~~cosinesimil_sparse_fast~~\n",
    "    * Norm. Levenshtein: ***NOTE*** used for strigns\n",
    "        - ~~normleven~~"
   ]
  },
  {
   "cell_type": "code",
   "execution_count": 4,
   "metadata": {
    "collapsed": true,
    "deletable": true,
    "editable": true
   },
   "outputs": [],
   "source": [
    "# List of nonmetric space type with symmetric distances\n",
    "lp_space_p=0.5\n",
    "nonmetric_sym_space_type_opts=['lp',\n",
    "                        'jsdivslow',\n",
    "                        'jsdivfast',\n",
    "                        'cosinesimil',\n",
    "                        'jsdivfastapprox']"
   ]
  },
  {
   "cell_type": "markdown",
   "metadata": {
    "collapsed": true,
    "deletable": true,
    "editable": true
   },
   "source": [
    "* ***NonMetric spaces(non-symmetric distances)***\n",
    "    * Regular KL-div.\n",
    "        - kldivfast\n",
    "        - kldivfastrq\n",
    "    * Generalized KL-div.   \n",
    "        - left queries:\n",
    "            - kldivgenslow,\n",
    "            - kldivgenfast\n",
    "        - right queries:\n",
    "            - kldivgenfastrq \n",
    "    * Itakura-Saito\n",
    "        - left queries: \n",
    "            - ~~itakurasaitoslow~~\n",
    "            - itakurasaitofast\n",
    "        - right queries\n",
    "            - ~~itakurasaitofastrq~~"
   ]
  },
  {
   "cell_type": "code",
   "execution_count": 5,
   "metadata": {
    "collapsed": false,
    "deletable": true,
    "editable": true
   },
   "outputs": [],
   "source": [
    "# List of nonmetric space type with nonsymmetric distances\n",
    "nonmetric_nonsym_space_type_opts= \\\n",
    "                        ['kldivfast',\\\n",
    "                         'kldivfastrq',\\\n",
    "                         'kldivgenslow',\\\n",
    "                         'kldivgenfast',\\\n",
    "                         'kldivgenfastrq',\\\n",
    "                         'itakurasaitofast']\n"
   ]
  },
  {
   "cell_type": "markdown",
   "metadata": {
    "deletable": true,
    "editable": true
   },
   "source": [
    "Različite opcije `method_name` varijable s parametrima:\n",
    "\n",
    "#TODO\n"
   ]
  },
  {
   "cell_type": "code",
   "execution_count": 6,
   "metadata": {
    "collapsed": true,
    "deletable": true,
    "editable": true
   },
   "outputs": [],
   "source": [
    "# TODO Scan through all search methods and extract the most interesting"
   ]
  },
  {
   "cell_type": "code",
   "execution_count": 7,
   "metadata": {
    "collapsed": true,
    "deletable": true,
    "editable": true
   },
   "outputs": [],
   "source": [
    "# TODO Find out what are index_param and query_time_param"
   ]
  },
  {
   "cell_type": "markdown",
   "metadata": {
    "deletable": true,
    "editable": true
   },
   "source": [
    "Utility funkije:"
   ]
  },
  {
   "cell_type": "code",
   "execution_count": 8,
   "metadata": {
    "collapsed": false,
    "deletable": true,
    "editable": true
   },
   "outputs": [],
   "source": [
    "def read_data_fast_batch(fn, batch_size, sep=','):\n",
    "    for df in pd.read_csv(fn, sep=sep, header=None, chunksize=batch_size):\n",
    "        yield np.ascontiguousarray(df.as_matrix(), dtype=np.float32)\n",
    "        \n",
    "def add_data_to_index(index,file_name,batch_size,sep=','):\n",
    "    offset=0\n",
    "    for data_batch in read_data_fast_batch(file_name,batch_size,sep):\n",
    "        indices=np.arange(len(data_batch),dtype=np.int32)+offset\n",
    "        nmslib.addDataPointBatch(index,indices,data_batch)\n",
    "        offset+=data_batch.shape[0]\n",
    "    return offset\n",
    "\n",
    "def read_data_fast(fn, sep=','):\n",
    "    df = pd.read_csv(fn, sep=sep, header=None)\n",
    "    return np.ascontiguousarray(df.as_matrix(), dtype=np.float32)"
   ]
  },
  {
   "cell_type": "markdown",
   "metadata": {
    "deletable": true,
    "editable": true
   },
   "source": [
    "Primjer rada:"
   ]
  },
  {
   "cell_type": "code",
   "execution_count": 9,
   "metadata": {
    "collapsed": false,
    "deletable": true,
    "editable": true
   },
   "outputs": [],
   "source": [
    "# # Test dataset\n",
    "\n",
    "# observations=2000\n",
    "# queryset=100\n",
    "# dim=3\n",
    "\n",
    "# pd.DataFrame(data=np.random.rand(observations,dim)*100).to_csv('data.csv',sep=',',index=False,header=False)\n",
    "# pd.DataFrame(data=np.random.rand(queryset,dim)*100).to_csv('queries.csv',sep=',',index=False,header=False)\n",
    "\n",
    "# data=pd.read_csv('data.csv',header=None)"
   ]
  },
  {
   "cell_type": "code",
   "execution_count": 10,
   "metadata": {
    "collapsed": false,
    "deletable": true,
    "editable": true
   },
   "outputs": [],
   "source": [
    "# one full run\n",
    "\n",
    "def test_config(space_type = 'lp',\\\n",
    "                space_param = ['p=1'],\\\n",
    "                method_name = 'small_world_rand', \\\n",
    "               index_param = ['NN=17', 'initIndexAttempts=3', 'indexThreadQty=4'],\\\n",
    "               query_time_param = ['initSearchAttempts=3']):\n",
    "    index_name  = method_name + '_sparse.index'\n",
    "    index = nmslib.init(space_type,\n",
    "                        space_param,\n",
    "                        method_name,\n",
    "                        nmslib.DataType.DENSE_VECTOR,\n",
    "                        nmslib.DistType.FLOAT)\n",
    "\n",
    "    last_offset=add_data_to_index(index,'data.csv',100)\n",
    "\n",
    "    nmslib.createIndex(index, index_param)\n",
    "\n",
    "    nmslib.setQueryTimeParams(index,query_time_param)\n",
    "\n",
    "    k = 3\n",
    "    query = read_data_fast('queries.csv')\n",
    "    num_threads = 10\n",
    "    res = nmslib.knnQueryBatch(index, num_threads, k, query)\n",
    "    nmslib.freeIndex(index)\n",
    "    return "
   ]
  },
  {
   "cell_type": "code",
   "execution_count": 11,
   "metadata": {
    "collapsed": false,
    "deletable": true,
    "editable": true,
    "scrolled": true
   },
   "outputs": [
    {
     "name": "stdout",
     "output_type": "stream",
     "text": [
      "l1\n",
      "OK\n",
      "\n",
      "l2\n",
      "OK\n",
      "\n",
      "linf\n",
      "OK\n",
      "\n",
      "lp\n"
     ]
    },
    {
     "name": "stderr",
     "output_type": "stream",
     "text": [
      "/usr/local/lib/python2.7/dist-packages/ipykernel/__main__.py:9: DeprecationWarning: PyArray_FromDims: use PyArray_SimpleNew.\n",
      "/usr/local/lib/python2.7/dist-packages/ipykernel/__main__.py:9: DeprecationWarning: PyArray_FromDimsAndDataAndDescr: use PyArray_NewFromDescr.\n",
      "/usr/local/lib/python2.7/dist-packages/ipykernel/__main__.py:20: DeprecationWarning: PyArray_FromDims: use PyArray_SimpleNew.\n",
      "/usr/local/lib/python2.7/dist-packages/ipykernel/__main__.py:20: DeprecationWarning: PyArray_FromDimsAndDataAndDescr: use PyArray_NewFromDescr.\n"
     ]
    },
    {
     "name": "stdout",
     "output_type": "stream",
     "text": [
      "OK\n",
      "\n",
      "angulardist\n",
      "OK\n",
      "\n",
      "jsmetrslow\n",
      "OK\n",
      "\n",
      "jsmetrfast\n",
      "OK\n",
      "\n",
      "jsmetrfastapprox\n",
      "OK\n",
      "\n",
      "lp\n",
      "OK\n",
      "\n",
      "jsdivslow\n",
      "OK\n",
      "\n",
      "jsdivfast\n",
      "OK\n",
      "\n",
      "cosinesimil\n",
      "OK\n",
      "\n",
      "jsdivfastapprox\n",
      "OK\n",
      "\n",
      "kldivfast\n",
      "OK\n",
      "\n",
      "kldivfastrq\n",
      "OK\n",
      "\n",
      "kldivgenslow\n",
      "OK\n",
      "\n",
      "kldivgenfast\n",
      "OK\n",
      "\n",
      "kldivgenfastrq\n",
      "OK\n",
      "\n",
      "itakurasaitofast\n",
      "OK\n",
      "\n"
     ]
    }
   ],
   "source": [
    "#Test for runnable space types\n",
    "space_types=metric_space_type_opts+nonmetric_sym_space_type_opts+nonmetric_nonsym_space_type_opts\n",
    "for space_type in space_types:\n",
    "    print space_type\n",
    "    test_config(space_type=space_type)\n",
    "    print 'OK'\n",
    "    print "
   ]
  },
  {
   "cell_type": "code",
   "execution_count": null,
   "metadata": {
    "collapsed": true
   },
   "outputs": [],
   "source": []
  },
  {
   "cell_type": "code",
   "execution_count": 12,
   "metadata": {
    "collapsed": false
   },
   "outputs": [],
   "source": [
    "# #Test for runnable space types\n",
    "# method_names=[\n",
    "#     'vptree',\n",
    "#     'mvptree',\n",
    "#     'ghtree',\n",
    "#     'list_clusters',\n",
    "#     'satree',\n",
    "#     'bbtree'\n",
    "# ]\n",
    "# for method_name in method_names:\n",
    "#     print method_name\n",
    "#     test_config(method_name=method_name)\n",
    "#     print 'OK'\n",
    "#     print "
   ]
  },
  {
   "cell_type": "code",
   "execution_count": null,
   "metadata": {
    "collapsed": true
   },
   "outputs": [],
   "source": []
  }
 ],
 "metadata": {
  "kernelspec": {
   "display_name": "Python 2",
   "language": "python",
   "name": "python2"
  },
  "language_info": {
   "codemirror_mode": {
    "name": "ipython",
    "version": 2
   },
   "file_extension": ".py",
   "mimetype": "text/x-python",
   "name": "python",
   "nbconvert_exporter": "python",
   "pygments_lexer": "ipython2",
   "version": "2.7.12"
  }
 },
 "nbformat": 4,
 "nbformat_minor": 2
}
